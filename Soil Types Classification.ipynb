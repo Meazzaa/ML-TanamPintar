{
  "nbformat": 4,
  "nbformat_minor": 0,
  "metadata": {
    "colab": {
      "provenance": []
    },
    "kernelspec": {
      "name": "python3",
      "display_name": "Python 3"
    },
    "language_info": {
      "name": "python"
    }
  },
  "cells": [
    {
      "cell_type": "code",
      "execution_count": null,
      "metadata": {
        "id": "LH6GVxukS-VI"
      },
      "outputs": [],
      "source": [
        "import numpy as np\n",
        "import pandas as pd\n",
        "import os\n",
        "import tensorflow as tf\n",
        "import matplotlib.pyplot as plt\n",
        "from tensorflow import keras\n",
        "from keras.preprocessing.image import ImageDataGenerator\n",
        "from keras.optimizers import RMSprop"
      ]
    },
    {
      "cell_type": "code",
      "source": [
        "class MyCallback(tf.keras.callbacks.Callback):\n",
        "    def on_epoch_end(self, epoch, logs={}):\n",
        "        if (logs.get('accuracy') > 0.90):\n",
        "            print('\\nStop Training')\n",
        "            self.model.stop_training = True"
      ],
      "metadata": {
        "id": "eTZghhxpck_u"
      },
      "execution_count": null,
      "outputs": []
    },
    {
      "cell_type": "code",
      "source": [
        "dir_Black = os.path.join('/content/Soil types/Black Soil')\n",
        "dir_Cinder = os.path.join('/content/Soil types/Cinder Soil')\n",
        "dir_Laterite = os.path.join('/content/Soil types/Laterite Soil')\n",
        "dir_Peat = os.path.join('/content/Soil types/Peat Soil')\n",
        "dir_Yellow = os.path.join('/content/Soil types/Yellow Soil')"
      ],
      "metadata": {
        "id": "sqc3fp97Yff1"
      },
      "execution_count": null,
      "outputs": []
    },
    {
      "cell_type": "code",
      "source": [
        "image_size = 220\n",
        "batch_size = 10\n",
        "\n",
        "\n",
        "target_size = (image_size, image_size)\n",
        "input_shape = (image_size, image_size, 3)"
      ],
      "metadata": {
        "id": "7T26QVQXY0lV"
      },
      "execution_count": null,
      "outputs": []
    },
    {
      "cell_type": "code",
      "source": [
        "train_datagen = ImageDataGenerator(rescale=1/255)\n",
        "train_generator = train_datagen.flow_from_directory(\n",
        "    '/content/Soil types',\n",
        "    target_size=(200, 200),\n",
        "    batch_size = batch_size,\n",
        "    classes = [ 'Black Soil','Cinder Soil', 'Laterite Soil','Peat Soil','Yellow Soil'],\n",
        "    class_mode='categorical')"
      ],
      "metadata": {
        "colab": {
          "base_uri": "https://localhost:8080/"
        },
        "id": "uKhDi-uhY4yt",
        "outputId": "608d6d2a-36df-440a-8efb-fefb6f6810ed"
      },
      "execution_count": null,
      "outputs": [
        {
          "output_type": "stream",
          "name": "stdout",
          "text": [
            "Found 156 images belonging to 5 classes.\n"
          ]
        }
      ]
    },
    {
      "cell_type": "code",
      "source": [
        "model = tf.keras.models.Sequential([\n",
        "    # The first convolution\n",
        "    tf.keras.layers.Conv2D(16, (3,3), activation='relu', input_shape=(220, 220, 3)),\n",
        "    tf.keras.layers.MaxPooling2D(2, 2),\n",
        "    # The second convolution\n",
        "    tf.keras.layers.Conv2D(32, (3,3), activation='relu'),\n",
        "    tf.keras.layers.MaxPooling2D(2,2),\n",
        "    # The third convolution\n",
        "    tf.keras.layers.Conv2D(64, (3,3), activation='relu'),\n",
        "    tf.keras.layers.MaxPooling2D(2,2),\n",
        "    # The fourth convolution\n",
        "    tf.keras.layers.Conv2D(128, (3,3), activation='relu'),\n",
        "    tf.keras.layers.MaxPooling2D(2,2),\n",
        "    # The fifth convolution\n",
        "    tf.keras.layers.Conv2D(256, (3,3), activation='relu'),\n",
        "    tf.keras.layers.MaxPooling2D(2,2),\n",
        "    # Flatten the results to feed into a dense layer\n",
        "    tf.keras.layers.Flatten(),\n",
        "    # 128 neuron in the fully-connected layer\n",
        "    tf.keras.layers.Dense(128, activation='relu'),\n",
        "    # 5 output neurons for 5 classes with the softmax activation\n",
        "    tf.keras.layers.Dense(5, activation='softmax')\n",
        "])"
      ],
      "metadata": {
        "id": "iSa8kQmIZL7f"
      },
      "execution_count": null,
      "outputs": []
    },
    {
      "cell_type": "code",
      "source": [
        "model.summary()"
      ],
      "metadata": {
        "colab": {
          "base_uri": "https://localhost:8080/"
        },
        "id": "b_CoUouYZW8P",
        "outputId": "e147a869-5f33-4789-eedb-2f5c427c7444"
      },
      "execution_count": null,
      "outputs": [
        {
          "output_type": "stream",
          "name": "stdout",
          "text": [
            "Model: \"sequential_11\"\n",
            "_________________________________________________________________\n",
            " Layer (type)                Output Shape              Param #   \n",
            "=================================================================\n",
            " conv2d_53 (Conv2D)          (None, 218, 218, 16)      448       \n",
            "                                                                 \n",
            " max_pooling2d_53 (MaxPooli  (None, 109, 109, 16)      0         \n",
            " ng2D)                                                           \n",
            "                                                                 \n",
            " conv2d_54 (Conv2D)          (None, 107, 107, 32)      4640      \n",
            "                                                                 \n",
            " max_pooling2d_54 (MaxPooli  (None, 53, 53, 32)        0         \n",
            " ng2D)                                                           \n",
            "                                                                 \n",
            " conv2d_55 (Conv2D)          (None, 51, 51, 64)        18496     \n",
            "                                                                 \n",
            " max_pooling2d_55 (MaxPooli  (None, 25, 25, 64)        0         \n",
            " ng2D)                                                           \n",
            "                                                                 \n",
            " conv2d_56 (Conv2D)          (None, 23, 23, 128)       73856     \n",
            "                                                                 \n",
            " max_pooling2d_56 (MaxPooli  (None, 11, 11, 128)       0         \n",
            " ng2D)                                                           \n",
            "                                                                 \n",
            " conv2d_57 (Conv2D)          (None, 9, 9, 256)         295168    \n",
            "                                                                 \n",
            " max_pooling2d_57 (MaxPooli  (None, 4, 4, 256)         0         \n",
            " ng2D)                                                           \n",
            "                                                                 \n",
            " flatten_11 (Flatten)        (None, 4096)              0         \n",
            "                                                                 \n",
            " dense_22 (Dense)            (None, 128)               524416    \n",
            "                                                                 \n",
            " dense_23 (Dense)            (None, 5)                 645       \n",
            "                                                                 \n",
            "=================================================================\n",
            "Total params: 917669 (3.50 MB)\n",
            "Trainable params: 917669 (3.50 MB)\n",
            "Non-trainable params: 0 (0.00 Byte)\n",
            "_________________________________________________________________\n"
          ]
        }
      ]
    },
    {
      "cell_type": "code",
      "source": [
        "model.compile(optimizer=RMSprop(learning_rate=0.0001),\n",
        "                        loss='categorical_crossentropy',\n",
        "                        metrics=['accuracy'])\n",
        "#n_epochs = 50"
      ],
      "metadata": {
        "id": "06adflPVZX8d"
      },
      "execution_count": null,
      "outputs": []
    },
    {
      "cell_type": "markdown",
      "source": [],
      "metadata": {
        "id": "bpXZCDvFc7eL"
      }
    },
    {
      "cell_type": "code",
      "source": [
        "hist = model.fit(train_generator, epochs=50, verbose=1, callbacks=MyCallback())"
      ],
      "metadata": {
        "colab": {
          "base_uri": "https://localhost:8080/"
        },
        "id": "SOfzjpO4cQNn",
        "outputId": "71c4cf5e-5ba3-441d-93c8-03c6746363eb"
      },
      "execution_count": null,
      "outputs": [
        {
          "output_type": "stream",
          "name": "stdout",
          "text": [
            "Epoch 1/50\n",
            "16/16 [==============================] - 8s 392ms/step - loss: 1.5862 - accuracy: 0.2372\n",
            "Epoch 2/50\n",
            "16/16 [==============================] - 5s 329ms/step - loss: 1.5072 - accuracy: 0.2564\n",
            "Epoch 3/50\n",
            "16/16 [==============================] - 5s 328ms/step - loss: 1.3538 - accuracy: 0.3333\n",
            "Epoch 4/50\n",
            "16/16 [==============================] - 5s 329ms/step - loss: 1.2269 - accuracy: 0.3974\n",
            "Epoch 5/50\n",
            "16/16 [==============================] - 6s 383ms/step - loss: 1.1123 - accuracy: 0.4167\n",
            "Epoch 6/50\n",
            "16/16 [==============================] - 6s 375ms/step - loss: 1.0486 - accuracy: 0.4295\n",
            "Epoch 7/50\n",
            "16/16 [==============================] - 7s 441ms/step - loss: 0.9791 - accuracy: 0.4679\n",
            "Epoch 8/50\n",
            "16/16 [==============================] - 5s 333ms/step - loss: 0.9640 - accuracy: 0.4936\n",
            "Epoch 9/50\n",
            "16/16 [==============================] - 7s 409ms/step - loss: 0.9540 - accuracy: 0.5000\n",
            "Epoch 10/50\n",
            "16/16 [==============================] - 5s 331ms/step - loss: 0.9351 - accuracy: 0.5128\n",
            "Epoch 11/50\n",
            "16/16 [==============================] - 7s 454ms/step - loss: 0.8693 - accuracy: 0.5385\n",
            "Epoch 12/50\n",
            "16/16 [==============================] - 5s 332ms/step - loss: 0.9129 - accuracy: 0.5192\n",
            "Epoch 13/50\n",
            "16/16 [==============================] - 7s 445ms/step - loss: 0.8514 - accuracy: 0.6026\n",
            "Epoch 14/50\n",
            "16/16 [==============================] - 5s 335ms/step - loss: 0.8391 - accuracy: 0.5513\n",
            "Epoch 15/50\n",
            "16/16 [==============================] - 7s 447ms/step - loss: 0.8343 - accuracy: 0.5833\n",
            "Epoch 16/50\n",
            "16/16 [==============================] - 5s 329ms/step - loss: 0.8759 - accuracy: 0.5577\n",
            "Epoch 17/50\n",
            "16/16 [==============================] - 7s 422ms/step - loss: 0.8176 - accuracy: 0.6026\n",
            "Epoch 18/50\n",
            "16/16 [==============================] - 5s 334ms/step - loss: 0.8077 - accuracy: 0.6090\n",
            "Epoch 19/50\n",
            "16/16 [==============================] - 5s 328ms/step - loss: 0.7912 - accuracy: 0.6282\n",
            "Epoch 20/50\n",
            "16/16 [==============================] - 7s 433ms/step - loss: 0.8092 - accuracy: 0.5513\n",
            "Epoch 21/50\n",
            "16/16 [==============================] - 6s 331ms/step - loss: 0.7680 - accuracy: 0.6346\n",
            "Epoch 22/50\n",
            "16/16 [==============================] - 7s 424ms/step - loss: 0.7273 - accuracy: 0.6667\n",
            "Epoch 23/50\n",
            "16/16 [==============================] - 8s 504ms/step - loss: 0.7624 - accuracy: 0.6410\n",
            "Epoch 24/50\n",
            "16/16 [==============================] - 7s 383ms/step - loss: 0.7791 - accuracy: 0.6603\n",
            "Epoch 25/50\n",
            "16/16 [==============================] - 7s 421ms/step - loss: 0.7452 - accuracy: 0.6987\n",
            "Epoch 26/50\n",
            "16/16 [==============================] - 6s 334ms/step - loss: 0.6922 - accuracy: 0.6987\n",
            "Epoch 27/50\n",
            "16/16 [==============================] - 6s 354ms/step - loss: 0.7173 - accuracy: 0.6474\n",
            "Epoch 28/50\n",
            "16/16 [==============================] - 7s 410ms/step - loss: 0.6907 - accuracy: 0.7244\n",
            "Epoch 29/50\n",
            "16/16 [==============================] - 5s 330ms/step - loss: 0.6536 - accuracy: 0.6987\n",
            "Epoch 30/50\n",
            "16/16 [==============================] - 7s 449ms/step - loss: 0.6643 - accuracy: 0.7244\n",
            "Epoch 31/50\n",
            "16/16 [==============================] - 5s 330ms/step - loss: 0.6216 - accuracy: 0.7115\n",
            "Epoch 32/50\n",
            "16/16 [==============================] - 5s 330ms/step - loss: 0.6240 - accuracy: 0.7564\n",
            "Epoch 33/50\n",
            "16/16 [==============================] - 6s 369ms/step - loss: 0.6188 - accuracy: 0.7372\n",
            "Epoch 34/50\n",
            "16/16 [==============================] - 5s 331ms/step - loss: 0.5583 - accuracy: 0.7436\n",
            "Epoch 35/50\n",
            "16/16 [==============================] - 7s 446ms/step - loss: 0.5985 - accuracy: 0.7500\n",
            "Epoch 36/50\n",
            "16/16 [==============================] - 5s 330ms/step - loss: 0.5749 - accuracy: 0.8077\n",
            "Epoch 37/50\n",
            "16/16 [==============================] - 7s 422ms/step - loss: 0.5170 - accuracy: 0.7756\n",
            "Epoch 38/50\n",
            "16/16 [==============================] - 5s 328ms/step - loss: 0.5329 - accuracy: 0.7564\n",
            "Epoch 39/50\n",
            "16/16 [==============================] - 8s 512ms/step - loss: 0.4915 - accuracy: 0.7885\n",
            "Epoch 40/50\n",
            "16/16 [==============================] - 7s 405ms/step - loss: 0.5550 - accuracy: 0.7756\n",
            "Epoch 41/50\n",
            "16/16 [==============================] - 7s 451ms/step - loss: 0.5134 - accuracy: 0.8141\n",
            "Epoch 42/50\n",
            "16/16 [==============================] - 5s 333ms/step - loss: 0.5443 - accuracy: 0.7244\n",
            "Epoch 43/50\n",
            "16/16 [==============================] - 7s 427ms/step - loss: 0.4312 - accuracy: 0.8526\n",
            "Epoch 44/50\n",
            "16/16 [==============================] - 5s 331ms/step - loss: 0.5215 - accuracy: 0.7628\n",
            "Epoch 45/50\n",
            "16/16 [==============================] - 7s 450ms/step - loss: 0.4337 - accuracy: 0.8526\n",
            "Epoch 46/50\n",
            "16/16 [==============================] - 5s 331ms/step - loss: 0.4316 - accuracy: 0.8397\n",
            "Epoch 47/50\n",
            "16/16 [==============================] - 7s 419ms/step - loss: 0.3980 - accuracy: 0.8205\n",
            "Epoch 48/50\n",
            "16/16 [==============================] - 6s 333ms/step - loss: 0.4877 - accuracy: 0.8205\n",
            "Epoch 49/50\n",
            "16/16 [==============================] - 6s 344ms/step - loss: 0.3746 - accuracy: 0.8654\n",
            "Epoch 50/50\n",
            "16/16 [==============================] - 5s 331ms/step - loss: 0.3968 - accuracy: 0.8269\n"
          ]
        }
      ]
    },
    {
      "cell_type": "code",
      "source": [
        "# model.save('model.h5')"
      ],
      "metadata": {
        "id": "Girow45JvYdx"
      },
      "execution_count": null,
      "outputs": []
    }
  ]
}